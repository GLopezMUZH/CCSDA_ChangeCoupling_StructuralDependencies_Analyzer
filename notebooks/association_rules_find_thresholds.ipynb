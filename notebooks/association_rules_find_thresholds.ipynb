{
 "cells": [
  {
   "cell_type": "markdown",
   "metadata": {
    "id": "RsT8gxdZZOm4"
   },
   "source": [
    "# Find thresholds for association rules"
   ]
  },
  {
   "cell_type": "markdown",
   "metadata": {
    "id": "5RUZmvXBZVTD"
   },
   "source": [
    "Instructions: \n",
    "\n",
    "Depending on if run the notebook locally on in a cloud drive: \n",
    "* Replace the proj_name and proj_data_folder in the Configuration section\n",
    "* Replace the cloud drive folder in the Configuration section "
   ]
  },
  {
   "cell_type": "markdown",
   "metadata": {
    "id": "A-BpLdKAZZ8v"
   },
   "source": [
    "## Configuration"
   ]
  },
  {
   "cell_type": "code",
   "execution_count": 14,
   "metadata": {
    "id": "b_wQU9jFQwUZ"
   },
   "outputs": [],
   "source": [
    "proj_name = 'glucosio-android' # 'PX4-Autopilot' #'PROJ_NAME'\n",
    "proj_data_folder = '../project_results/' + proj_name + '/'"
   ]
  },
  {
   "cell_type": "markdown",
   "metadata": {},
   "source": [
    "### If you run this notebook in google colaboratory, configure this block.\n",
    "You will have to copy the generated database, the folders \"notebooks\" and \"analytics\". "
   ]
  },
  {
   "cell_type": "code",
   "execution_count": null,
   "metadata": {
    "colab": {
     "base_uri": "https://localhost:8080/"
    },
    "id": "E1rQwKgJVOXN",
    "outputId": "56c442cf-744a-43c3-e87a-486c7d617c8f"
   },
   "outputs": [],
   "source": [
    "from google.colab import drive\n",
    "import os\n",
    "\n",
    "GDRIVE_FOLDER = 'CCSD/codeChangeInCG'\n",
    "\n",
    "drive.mount('/gdrive')\n",
    "# the project's folder\n",
    "drive_folder = '/gdrive/My Drive/' + GDRIVE_FOLDER\n",
    "os.chdir(drive_folder)\n",
    "print(os.getcwd())"
   ]
  },
  {
   "cell_type": "markdown",
   "metadata": {
    "id": "odHEW53HZmOi"
   },
   "source": [
    "## Imports"
   ]
  },
  {
   "cell_type": "code",
   "execution_count": 6,
   "metadata": {
    "id": "AMOmfeQ-WIgz"
   },
   "outputs": [],
   "source": [
    "import sys\n",
    "import os\n",
    "import pandas as pd\n",
    "import sqlite3\n",
    "from pathlib import Path\n",
    "\n",
    "from mlxtend.frequent_patterns import apriori, association_rules\n",
    "from mlxtend.preprocessing import TransactionEncoder\n",
    "\n",
    "# works with lists, not pandas, no nan values, apostrophe between values of transaction\n",
    "\n",
    "# Parameters:\n",
    "# transactions: typing.Iterable[typing.Union[set, tuple, list]],\n",
    "# min_support: float = 0.5,\n",
    "# min_confidence: float = 0.5,\n",
    "# max_length: int = 8,\n",
    "# verbosity: int = 0,\n",
    "# output_transaction_ids: bool = False,"
   ]
  },
  {
   "cell_type": "code",
   "execution_count": 4,
   "metadata": {},
   "outputs": [],
   "source": [
    "# CCSD libraries\n",
    "analytics_folder_path = str(Path.cwd().parents[0] / \"analytics\")\n",
    "sys.path.append(analytics_folder_path)\n",
    "\n",
    "from association_rules_thresholds import *"
   ]
  },
  {
   "cell_type": "code",
   "execution_count": null,
   "metadata": {
    "id": "x5mKqTNWienv"
   },
   "outputs": [],
   "source": [
    "# Reloads\n",
    "import importlib\n",
    "import association_rules_thresholds\n",
    "\n",
    "importlib.reload(association_rules_thresholds)\n",
    "from association_rules_thresholds import *"
   ]
  },
  {
   "cell_type": "markdown",
   "metadata": {
    "id": "VbWIu_5aaBk6"
   },
   "source": [
    "## Database connections"
   ]
  },
  {
   "cell_type": "code",
   "execution_count": 15,
   "metadata": {
    "colab": {
     "base_uri": "https://localhost:8080/"
    },
    "id": "neJPdzztWhFD",
    "outputId": "4cae6752-cfcf-472e-c4be-10b09cfc481e"
   },
   "outputs": [
    {
     "name": "stdout",
     "output_type": "stream",
     "text": [
      "../project_results/glucosio-android/glucosio-android_analytics.db\n",
      "True\n"
     ]
    }
   ],
   "source": [
    "ANALYTICS_DB_PATH =  proj_data_folder + proj_name + '_analytics.db'\n",
    "print(ANALYTICS_DB_PATH)\n",
    "print(os.path.isfile(ANALYTICS_DB_PATH))\n",
    "con_analytics_db = sqlite3.connect(ANALYTICS_DB_PATH)"
   ]
  },
  {
   "cell_type": "markdown",
   "metadata": {
    "id": "wAH9PY0GxqAU"
   },
   "source": [
    "# On commit and file level"
   ]
  },
  {
   "cell_type": "code",
   "execution_count": 16,
   "metadata": {
    "colab": {
     "base_uri": "https://localhost:8080/"
    },
    "id": "u5rl4PEAsDSh",
    "outputId": "356414b7-e659-4b3f-cb47-ce45905b602a"
   },
   "outputs": [
    {
     "name": "stdout",
     "output_type": "stream",
     "text": [
      "[0.5, 1]\n",
      "[0.46, 1]\n",
      "[0.42, 1]\n",
      "[0.38, 1]\n",
      "[0.33999999999999997, 1]\n",
      "[0.3, 1]\n",
      "[0.26, 34]\n",
      "[0.21999999999999997, 34]\n",
      "[0.18, 34]\n",
      "[0.14, 669]\n"
     ]
    }
   ],
   "source": [
    "# Get number of rules by threshold with default values\n",
    "rt = get_rules_by_threshold_on_commit_and_file(con_analytics_db)\n",
    "for r in rt:\n",
    "    print(r)"
   ]
  },
  {
   "cell_type": "code",
   "execution_count": 17,
   "metadata": {
    "colab": {
     "base_uri": "https://localhost:8080/"
    },
    "id": "wI8jN0qPPlVq",
    "outputId": "252f1026-e958-4adc-cad6-1b87b38462d7"
   },
   "outputs": [
    {
     "name": "stdout",
     "output_type": "stream",
     "text": [
      "[0.5, 1]\n",
      "[0.454, 1]\n",
      "[0.40800000000000003, 1]\n",
      "[0.362, 1]\n",
      "[0.316, 1]\n",
      "[0.27, 34]\n",
      "[0.22399999999999998, 34]\n",
      "[0.178, 34]\n",
      "[0.132, 669]\n"
     ]
    }
   ],
   "source": [
    "# Get number of rules by threshold non default values\n",
    "rt = get_rules_by_threshold_on_commit_and_file(con_analytics_db, min_t=0.04, max_t=0.5, n=11, max_nr_rules=250)\n",
    "for r in rt:\n",
    "    print(r)"
   ]
  },
  {
   "cell_type": "markdown",
   "metadata": {
    "id": "tUx6juLTFK_Q"
   },
   "source": [
    "## Extended: On month and file level"
   ]
  },
  {
   "cell_type": "code",
   "execution_count": 19,
   "metadata": {
    "colab": {
     "base_uri": "https://localhost:8080/"
    },
    "id": "NL3NZwGQXRgn",
    "outputId": "078406e3-6d04-4bbb-ed07-ae279f058f73"
   },
   "outputs": [
    {
     "name": "stdout",
     "output_type": "stream",
     "text": [
      "yr_m\n",
      "2018-06    [AddA1CActivity.java, AddCholesterolActivity.j...\n",
      "2018-07    [A1cCalculatorActivity.java, AddGlucoseActivit...\n",
      "Name: file_name, dtype: object\n"
     ]
    }
   ],
   "source": [
    "# for processing mlxtend apriori\n",
    "sql_statement = \"\"\"select\n",
    "        file_name,\n",
    "        strftime('%Y', date(commit_commiter_datetime)) as iso_yr,\n",
    "        strftime('%m', date(commit_commiter_datetime)) as iso_month,\n",
    "        count(*) as changes_in_month\n",
    "        from file_commit\n",
    "        group by \n",
    "        file_name,\n",
    "        strftime('%Y', date(commit_commiter_datetime)),\n",
    "        strftime('%m', date(commit_commiter_datetime))\"\"\"\n",
    "dfsql = pd.read_sql_query(sql_statement, con_analytics_db)\n",
    "dfsql['yr_m'] = dfsql.apply(lambda row: ''.join(\n",
    "            [str(row.iso_yr), '-', str(row.iso_month)]), axis=1)\n",
    "df_hash = dfsql.groupby('yr_m')['file_name'].apply(list)\n",
    "print(df_hash.head(5)) "
   ]
  },
  {
   "cell_type": "code",
   "execution_count": 20,
   "metadata": {
    "id": "8pRpE66Sbk1n"
   },
   "outputs": [],
   "source": [
    "# generate scarce matrix\n",
    "te = TransactionEncoder()\n",
    "oht_ary = te.fit(df_hash).transform(df_hash, sparse=True)\n",
    "sparse_df = pd.DataFrame.sparse.from_spmatrix(oht_ary, columns=te.columns_)\n",
    "#sparse_df"
   ]
  },
  {
   "cell_type": "code",
   "execution_count": 21,
   "metadata": {
    "colab": {
     "base_uri": "https://localhost:8080/"
    },
    "id": "PMNSz0KHbk4c",
    "outputId": "a5706934-f066-4c82-e823-2bf5f3fb1dad"
   },
   "outputs": [
    {
     "name": "stdout",
     "output_type": "stream",
     "text": [
      "[0.3, 4215]\n"
     ]
    }
   ],
   "source": [
    "# Get number of rules by threshold\n",
    "rt = get_rules_by_threshold(sparse_df, min_t=0.2, max_t=0.3, n=11, max_nr_rules=250)\n",
    "for r in rt:\n",
    "    print(r)"
   ]
  },
  {
   "cell_type": "code",
   "execution_count": null,
   "metadata": {
    "id": "LFf4Oq9wbk7G"
   },
   "outputs": [],
   "source": []
  }
 ],
 "metadata": {
  "colab": {
   "collapsed_sections": [],
   "name": "association_rules_find_thresholds.ipynb",
   "provenance": [],
   "toc_visible": true
  },
  "kernelspec": {
   "display_name": "Python 3 (ipykernel)",
   "language": "python",
   "name": "python3"
  },
  "language_info": {
   "codemirror_mode": {
    "name": "ipython",
    "version": 3
   },
   "file_extension": ".py",
   "mimetype": "text/x-python",
   "name": "python",
   "nbconvert_exporter": "python",
   "pygments_lexer": "ipython3",
   "version": "3.9.7"
  }
 },
 "nbformat": 4,
 "nbformat_minor": 1
}
